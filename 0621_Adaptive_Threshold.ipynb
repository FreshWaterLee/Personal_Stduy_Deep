{
  "nbformat": 4,
  "nbformat_minor": 0,
  "metadata": {
    "colab": {
      "name": "0621_Adaptive_Threshold.ipynb",
      "private_outputs": true,
      "provenance": [],
      "collapsed_sections": [],
      "mount_file_id": "138sJkdRYKDgbrLx3HIPenG1QAPWoOQMU",
      "authorship_tag": "ABX9TyNa1U3p/vAbDQG8L/bhBS3V",
      "include_colab_link": true
    },
    "kernelspec": {
      "name": "python3",
      "display_name": "Python 3"
    },
    "language_info": {
      "name": "python"
    },
    "accelerator": "GPU"
  },
  "cells": [
    {
      "cell_type": "markdown",
      "metadata": {
        "id": "view-in-github",
        "colab_type": "text"
      },
      "source": [
        "<a href=\"https://colab.research.google.com/github/FreshWaterLee/Personal_Stduy_Deep/blob/main/0621_Adaptive_Threshold.ipynb\" target=\"_parent\"><img src=\"https://colab.research.google.com/assets/colab-badge.svg\" alt=\"Open In Colab\"/></a>"
      ]
    },
    {
      "cell_type": "code",
      "metadata": {
        "id": "LArTiuwZGrZN"
      },
      "source": [
        "## 적응형 이진화\n",
        "\n",
        "import cv2\n",
        "from google.colab.patches import cv2_imshow\n",
        "\n",
        "src = cv2.imread('/content/drive/MyDrive/road/GrayTree.jpg')\n",
        "road = cv2.imread('/content/drive/MyDrive/road/Road2.jpg')\n",
        "gray = cv2.cvtColor(src,cv2.COLOR_BGR2GRAY)\n",
        "binary = cv2.adaptiveThreshold(gray,255,cv2.ADAPTIVE_THRESH_MEAN_C,cv2.THRESH_BINARY,467,37)\n",
        "## cv2.adaptiveThreshold(입력 이미지, 최댓값, 적응형 이진화 플래그, 임곗값 형식, 블록 크기, 감산값)\n",
        "\n",
        "cv2_imshow(binary)"
      ],
      "execution_count": null,
      "outputs": []
    },
    {
      "cell_type": "code",
      "metadata": {
        "id": "7bBnOWqdJLhh"
      },
      "source": [
        "import cv2\n",
        "import numpy as np\n",
        "\n",
        "src = cv2.imread(\"/content/drive/MyDrive/road/apple_books.jpg\")\n",
        "gray = cv2.cvtColor(src, cv2.COLOR_BGR2GRAY)\n",
        "target = cv2.imread(\"/content/drive/MyDrive/road/apple.jpg\", cv2.IMREAD_GRAYSCALE)\n",
        "\n",
        "orb = cv2.ORB_create(\n",
        "    nfeatures=40000,\n",
        "    scaleFactor=1.2,\n",
        "    nlevels=8,\n",
        "    edgeThreshold=31,\n",
        "    firstLevel=0,\n",
        "    WTA_K=2,\n",
        "    scoreType=cv2.ORB_HARRIS_SCORE,\n",
        "    patchSize=31,\n",
        "    fastThreshold=20,\n",
        ")\n",
        "#cv2.ORB_create(최대 피처 수, 스케일 계수, 피라미드 레벨, 엣지 임곗값, \n",
        "##              시작 피라미드 레벨, 비교점, 점수 방식, 패치 크기, FAST 임곗값)\n",
        "## 최대 피처수는 한번에 검출하고자하는 특징점의 갯수, \n",
        "## 스케일 계수는 이미지 피라미드를 설정한다(너무 많게 설정하면 정확도가 떨어짐)\n",
        "\n",
        "kp1, des1 = orb.detectAndCompute(gray, None)\n",
        "##특징점, 기술자 =orb.detectAndCompute(입력 이미지, 마스크)\n",
        "kp2, des2 = orb.detectAndCompute(target, None)\n",
        "\n",
        "bf = cv2.BFMatcher(cv2.NORM_HAMMING, crossCheck=True)\n",
        "## orb.detectAndCompute(거리 측정법, 교차 검사)\n",
        "matches = bf.match(des1, des2)\n",
        "## bf.match(기술자1, 기술자2) => 기술자1과 기술자2를 사용해 최적의 매칭을 사용합니다.\n",
        "matches = sorted(matches, key=lambda x: x.distance)\n",
        "## 매개변수는 (질의 색인(queryIdx), 훈련 색인(trainIdx), 이미지 색인(imgIdx), 거리(distance))\n",
        "\n",
        "for i in matches[:100]:\n",
        "    idx = i.queryIdx\n",
        "    x1, y1 = kp1[idx].pt\n",
        "    cv2.circle(src, (int(x1), int(y1)), 3, (255, 0, 0), 3)\n",
        "cv2_imshow(src)\n",
        "cv2.waitKey()"
      ],
      "execution_count": null,
      "outputs": []
    },
    {
      "cell_type": "code",
      "metadata": {
        "id": "ZvxrcIPtY-pP"
      },
      "source": [
        ""
      ],
      "execution_count": null,
      "outputs": []
    }
  ]
}