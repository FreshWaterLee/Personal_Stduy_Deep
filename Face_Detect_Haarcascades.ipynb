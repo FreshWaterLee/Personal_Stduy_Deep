{
  "nbformat": 4,
  "nbformat_minor": 0,
  "metadata": {
    "colab": {
      "name": "Face_Detect_Haarcascades.ipynb",
      "private_outputs": true,
      "provenance": [],
      "collapsed_sections": [],
      "mount_file_id": "1x0TDE0xN_u4DAsC2gS1JFnUajvXW5hJv",
      "authorship_tag": "ABX9TyOceLQRaMRYpQVRdYMEeQZP",
      "include_colab_link": true
    },
    "kernelspec": {
      "name": "python3",
      "display_name": "Python 3"
    },
    "language_info": {
      "name": "python"
    },
    "accelerator": "GPU"
  },
  "cells": [
    {
      "cell_type": "markdown",
      "metadata": {
        "id": "view-in-github",
        "colab_type": "text"
      },
      "source": [
        "<a href=\"https://colab.research.google.com/github/FreshWaterLee/Personal_Stduy_Deep/blob/main/Face_Detect_Haarcascades.ipynb\" target=\"_parent\"><img src=\"https://colab.research.google.com/assets/colab-badge.svg\" alt=\"Open In Colab\"/></a>"
      ]
    },
    {
      "cell_type": "code",
      "metadata": {
        "id": "kA8FFMT4bVlE"
      },
      "source": [
        "import numpy as np\n",
        "import cv2\n",
        "from google.colab.patches import cv2_imshow\n",
        "\n",
        "xml = '/content/drive/MyDrive/haarcascades/haarcascade_frontalface_default.xml'\n",
        "## 얼굴 인식을 위한 데이터 값을 저장해놓은 xml파일\n",
        "face_cascade = cv2.CascadeClassifier(xml)\n",
        "## CascadeClassifier란 함수를 통해 xml파일에서 얼굴로 인식하는 값을 가져옴\n",
        "\n",
        "# cap = cv2.VideoCapture(0) # 노트북 웹캠을 카메라로 사용\n",
        "# cap.set(3,640) # 너비\n",
        "# cap.set(4,480) # 높이\n",
        "\n",
        "while(True):\n",
        "    # ret, frame = cap.read()\n",
        "    image = cv2.imread('/content/drive/MyDrive/people/AKR20180718026400005_01_i_P4.jpg')\n",
        "    frame2 = cv2.flip(image,1)\n",
        "    # frame = cv2.flip(frame, 1) # 좌우 대칭\n",
        "    # gray = cv2.cvtColor(frame, cv2.COLOR_BGR2GRAY)\n",
        "    gray2 = cv2.cvtColor(frame2, cv2.COLOR_BGR2GRAY)\n",
        "    cv2_imshow(gray2)\n",
        "\n",
        "    faces = face_cascade.detectMultiScale(gray2,\n",
        "        scaleFactor=1.1,     # 이미지에서 얼굴 크기가 서로 다른 것을 보상해주는 값\n",
        "        minNeighbors=5,    # 얼굴 사이의 최소 간격(픽셀)입니다\n",
        "        minSize=(30, 30),   # 얼굴의 최소 크기입니다\n",
        "        )\n",
        "    # 그레이 스케이\n",
        "    print(\"Number of faces detected: \" + str(len(faces)))\n",
        "\n",
        "    if len(faces):\n",
        "        for (x,y,w,h) in faces:\n",
        "            cv2.rectangle(frame2,(x,y),(x+w,y+h),(255,0,0),2)\n",
        "        \n",
        "    cv2_imshow(frame2)\n",
        "    \n",
        "    k = cv2.waitKey(0) & 0xff\n",
        "    if k == 27: # Esc 키를 누르면 종료\n",
        "        break\n",
        "\n",
        "cap.release()\n",
        "cv2.destroyAllWindows()"
      ],
      "execution_count": null,
      "outputs": []
    },
    {
      "cell_type": "code",
      "metadata": {
        "id": "ZG94yFj1XzWC"
      },
      "source": [
        "import numpy as np\n",
        "import cv2\n",
        "from google.colab.patches import cv2_imshow\n",
        "import os\n",
        "\n",
        "path_dir = '/content/drive/MyDrive/faces/'\n",
        "file_list = os.listdir(path_dir)\n",
        "xml = '/content/drive/MyDrive/haarcascades/haarcascade_frontalface_default.xml'\n",
        "## 얼굴 인식을 위한 데이터 값을 저장해놓은 xml파일\n",
        "face_cascade = cv2.CascadeClassifier(xml)\n",
        "## CascadeClassifier란 함수를 통해 xml파일에서 얼굴로 인식하는 값을 가져옴\n",
        "for i in range(10):\n",
        "    image = cv2.imread(path_dir+file_list[i])\n",
        "    frame = cv2.flip(image,1)\n",
        "    gray = cv2.cvtColor(frame, cv2.COLOR_BGR2GRAY)\n",
        "    faces = face_cascade.detectMultiScale(\n",
        "        gray,               #GraySacle 할 이미지 파일\n",
        "        scaleFactor=1.1,     # 이미지에서 얼굴 크기가 서로 다른 것을 보상해주는 값\n",
        "        minNeighbors=5,    # 얼굴 사이의 최소 간격(픽셀)입니다\n",
        "        minSize=(30, 30),   # 얼굴의 최소 크기입니다\n",
        "        )\n",
        "    print(\"Number of faces detected: \" + str(len(faces)))\n",
        "    if len(faces):\n",
        "        for (x,y,w,h) in faces:\n",
        "            cv2.rectangle(frame,(x,y),(x+w,y+h),(255,0,0),2)\n",
        "    cv2_imshow(frame)\n",
        "    cv2.waitKey(300)\n",
        "cv2.destroyAllWindows()"
      ],
      "execution_count": null,
      "outputs": []
    }
  ]
}