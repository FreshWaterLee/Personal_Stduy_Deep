{
  "nbformat": 4,
  "nbformat_minor": 0,
  "metadata": {
    "colab": {
      "name": "ImageClassification_CNN.ipynb",
      "private_outputs": true,
      "provenance": [],
      "collapsed_sections": [],
      "authorship_tag": "ABX9TyMykwQWv860+3Af1LshqItX",
      "include_colab_link": true
    },
    "kernelspec": {
      "name": "python3",
      "display_name": "Python 3"
    },
    "language_info": {
      "name": "python"
    }
  },
  "cells": [
    {
      "cell_type": "markdown",
      "metadata": {
        "id": "view-in-github",
        "colab_type": "text"
      },
      "source": [
        "<a href=\"https://colab.research.google.com/github/FreshWaterLee/Personal_Stduy_Deep/blob/main/ImageClassification_CNN.ipynb\" target=\"_parent\"><img src=\"https://colab.research.google.com/assets/colab-badge.svg\" alt=\"Open In Colab\"/></a>"
      ]
    },
    {
      "cell_type": "code",
      "metadata": {
        "id": "jUZxQ6sCop1-"
      },
      "source": [
        "import os\n",
        "os.environ[\"TF_CPP_MIN_LOG_LEVEL\"]=\"2\"\n",
        "import tensorflow as tf\n",
        "from tensorflow import keras\n",
        "from tensorflow.keras import layers\n",
        "from tensorflow.keras.preprocessing.image import ImageDataGenerator\n",
        "\n",
        "img_height = 28\n",
        "img_width = 28\n",
        "batch_size =2\n",
        "\n",
        "model = keras.Sequential([\n",
        "    layers.Input((28,28,1)),\n",
        "    layers.Conv2D(16,3,padding='same'),\n",
        "    layers.Conv2D(32,3,padding='same'),\n",
        "    layers.MaxPooling2D(),\n",
        "    layers.Flatten(),\n",
        "    layers.Dense(10),        \n",
        "])"
      ],
      "execution_count": null,
      "outputs": []
    },
    {
      "cell_type": "code",
      "metadata": {
        "id": "D8u8w-Wc02lM"
      },
      "source": [
        "ds_train = tf.keras.preprocessing.image_dataset_from_directory(\n",
        "    'data/mnist_subfolders/', ## Training 데이터셋\n",
        "    labels='inferred',\n",
        "    label_mode = \"int\",\n",
        "    color_mode =\"grayscale\",\n",
        "    batch_size=batch_size,\n",
        "    image_size = (img_height,img_width),\n",
        "    shuffle = True,\n",
        "    seed = 123,\n",
        "    validation_split=0.1,\n",
        "    subset=\"training\",\n",
        ")\n",
        "\n",
        "ds_validation = tf.keras.preprocessing.image_dataset_from_directory(\n",
        "    'data/mnist_subfolders/', #Validation 데이터 셋\n",
        "    labels='inferred',\n",
        "    label_mode = \"int\",\n",
        "    color_mode =\"grayscale\",\n",
        "    batch_size=batch_size,\n",
        "    image_size = (img_height,img_width),\n",
        "    shuffle = True,\n",
        "    seed = 123,\n",
        "    validation_split=0.1,\n",
        "    subset=\"validation\",\n",
        ")\n",
        "\n",
        "def augment(x,y):\n",
        "    image = tf.image.random_brightness(x,max_delta=0.05)\n",
        "    return image,y\n",
        "ds_train = ds_train.map(augment)\n",
        "\n",
        "for epochs in range(10):\n",
        "    for x,y in ds_train:\n",
        "        # DataSet 트레인은 이 반복문에서 실행된다.\n",
        "        pass\n",
        "model.compile(\n",
        "    optimizer = keras.optimizers.Adam(),\n",
        "    loss=[\n",
        "          keras.losses.SparseCategoricalCrossentropy(from_logits=True),\n",
        "    ],\n",
        "    metrics = [\"accuracy\"],\n",
        ")\n",
        "\n",
        "model.fit(ds_train,epochs=10,verbose=2)\n",
        "\n"
      ],
      "execution_count": null,
      "outputs": []
    },
    {
      "cell_type": "code",
      "metadata": {
        "id": "WnaMft4g-fZR"
      },
      "source": [
        "datagen = ImageDataGenerator(\n",
        "    rescale=1./255,\n",
        "    rotation_range =5,\n",
        "    zoom_range=(0.99,0.99),\n",
        "    horizontal_flip = False,\n",
        "    vertical_flip = False,\n",
        "    data_format = 'channels_last',\n",
        "    validation_split=0.0,\n",
        "    dtype = tf.float32\n",
        "\n",
        ")\n",
        "\n",
        "train_generator = datagen.flow_from_directroy(\n",
        "    'data/mnist_subfolders/',\n",
        "    target_size=(img_height,img_width),\n",
        "    batch_size=batch_size,\n",
        "    color_mode = 'grayscale',\n",
        "    class_mode = 'sparse',\n",
        "    shuffle=True,\n",
        "    subset='training',\n",
        "    seed=123,\n",
        ")\n",
        "\n",
        "def training():\n",
        "    pass\n",
        "\n"
      ],
      "execution_count": null,
      "outputs": []
    },
    {
      "cell_type": "code",
      "metadata": {
        "id": "FsjFlREP03JP"
      },
      "source": [
        ""
      ],
      "execution_count": null,
      "outputs": []
    }
  ]
}