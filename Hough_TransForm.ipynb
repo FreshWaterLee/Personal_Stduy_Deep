{
  "nbformat": 4,
  "nbformat_minor": 0,
  "metadata": {
    "colab": {
      "name": "Hough_TransForm.ipynb",
      "private_outputs": true,
      "provenance": [],
      "collapsed_sections": [],
      "mount_file_id": "1ZFUSrU89aW8NXXIwN0UUo6C6GSFF4TU8",
      "authorship_tag": "ABX9TyMz2AklCWaCNxtW5d4CPexI",
      "include_colab_link": true
    },
    "kernelspec": {
      "name": "python3",
      "display_name": "Python 3"
    },
    "language_info": {
      "name": "python"
    },
    "accelerator": "GPU"
  },
  "cells": [
    {
      "cell_type": "markdown",
      "metadata": {
        "id": "view-in-github",
        "colab_type": "text"
      },
      "source": [
        "<a href=\"https://colab.research.google.com/github/FreshWaterLee/Personal_Stduy_Deep/blob/main/Hough_TransForm.ipynb\" target=\"_parent\"><img src=\"https://colab.research.google.com/assets/colab-badge.svg\" alt=\"Open In Colab\"/></a>"
      ]
    },
    {
      "cell_type": "code",
      "metadata": {
        "id": "T8tMiIYw4KOn"
      },
      "source": [
        "## 허프변환 알고리즘을 이용한 라인검출\n",
        "\n",
        "import cv2\n",
        "from google.colab.patches import cv2_imshow\n",
        "import numpy as np\n",
        "import math\n",
        "\n",
        "img = cv2.imread('/content/drive/MyDrive/road/Road1.jpg')\n",
        "dst = img.copy()\n",
        "dst2 = img.copy()\n",
        "gray = cv2.cvtColor(img,cv2.COLOR_BGR2GRAY)\n",
        "## Canny 엣지 검출을 위한 그레이 스케일\n",
        "canny = cv2.Canny(gray,5000,1500,apertureSize=5,L2gradient=True)\n",
        "## Canny 엣지 알고리즘(그레이 스케일화 한 이미지,최소 임계값,최대 임계값)\n",
        "\n",
        "## 허프 변환 알고리즘보다는 허프 변환 플러스 알고리즘을 사용하는것을 추천!!\n",
        "\n",
        "lines = cv2.HoughLines(canny,0.8,np.pi/180,150,srn=100,stn=200,min_theta=0,max_theta=np.pi)\n",
        "## cv2.HoughLines(검출 이미지, 거리, 각도, 임곗값, 거리 약수, 각도 약수, 최소 각도, 최대 각도)\n",
        "## cv2.HoughLines함수는 가장 직선일 확률이 높은 거리와 각도를 반환한다.\n",
        "## 예전에는 허프변환을 주로 사용했지만 현재는 더 정밀한 함수를 사용할수 있기에 굳이 사용을...?\n",
        "\n",
        "lines2 = cv2.HoughLinesP(canny,0.8,np.pi/180,90,minLineLength=10,maxLineGap=100)\n",
        "## cv2.HoughLinesP(검출 이미지, 거리, 각도, 임곗값, 최소 선 길이, 최대 선 간격)\n",
        "## 함수의 매개변수를 조금씩 변환하면서 라인을 검출하는 방법을 추천한다.\n",
        "## 굳이 허프변환을 사용하고 각도를 조건삼아서 검출하는 것보다는\n",
        "\n",
        "\n",
        "for i in lines2:\n",
        "    cv2.line(dst2,(i[0][0],i[0][1]),(i[0][2],i[0][3]),(0,0,255),2)\n",
        "    ## x1,y1,x2,y2의 순서로 시작점과 끝점을 표시\n",
        "\n",
        "for i in lines:\n",
        "    rho, theta = i[0][0],i[0][1]\n",
        "    ## 거리와 각도를 변수에 저장\n",
        "    deg = math.degrees(theta)\n",
        "    print(deg)\n",
        "    a,b = np.cos(theta),np.sin (theta)\n",
        "    x0,y0 = a*rho,b*rho\n",
        "\n",
        "    scale = img.shape[0] + img.shape[1]\n",
        "    x1 = int(x0+scale*-b)\n",
        "    y1 = int(y0+scale*a)\n",
        "    x2 = int(x0-scale*-b)\n",
        "    y2 = int(x0-scale*a)\n",
        "\n",
        "    cv2.line(dst,(x1,y1),(x2,y2),(0,0,255),2)\n",
        "    cv2.circle(dst,(x0,y0),3,(255,0,0),5,cv2.FILLED)\n",
        "\n",
        "cv2_imshow(dst)\n",
        "cv2_imshow(dst2)\n",
        "## 결과를 보면 점진성 확률정 허프 변환이 차선과 같은 라인 검출의 정확성이 높기 때문\n",
        "cv2.waitKey(0)\n"
      ],
      "execution_count": null,
      "outputs": []
    },
    {
      "cell_type": "code",
      "metadata": {
        "id": "X9r2hztaDvEo"
      },
      "source": [
        ""
      ],
      "execution_count": null,
      "outputs": []
    }
  ]
}