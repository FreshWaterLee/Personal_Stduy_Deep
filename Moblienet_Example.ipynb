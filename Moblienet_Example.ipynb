{
  "nbformat": 4,
  "nbformat_minor": 0,
  "metadata": {
    "colab": {
      "name": "Moblienet_Example.ipynb",
      "private_outputs": true,
      "provenance": [],
      "collapsed_sections": [],
      "authorship_tag": "ABX9TyODO7TD5349vcZVoE5X2KV2",
      "include_colab_link": true
    },
    "kernelspec": {
      "name": "python3",
      "display_name": "Python 3"
    },
    "language_info": {
      "name": "python"
    },
    "accelerator": "GPU"
  },
  "cells": [
    {
      "cell_type": "markdown",
      "metadata": {
        "id": "view-in-github",
        "colab_type": "text"
      },
      "source": [
        "<a href=\"https://colab.research.google.com/github/FreshWaterLee/Personal_Stduy_Deep/blob/main/Moblienet_Example.ipynb\" target=\"_parent\"><img src=\"https://colab.research.google.com/assets/colab-badge.svg\" alt=\"Open In Colab\"/></a>"
      ]
    },
    {
      "cell_type": "code",
      "metadata": {
        "id": "3MUS_7iLdro0"
      },
      "source": [
        "!git clone https://github.com/tensorflow/models"
      ],
      "execution_count": null,
      "outputs": []
    },
    {
      "cell_type": "code",
      "metadata": {
        "id": "Jlgqe1s8f6CF"
      },
      "source": [
        "from __future__ import print_function\n",
        "from IPython import display \n",
        "base_name = checkpoint_name = 'mobilenet_v2_1.0_224' #@param\n",
        "url = 'https://storage.googleapis.com/mobilenet_v2/checkpoints/' + checkpoint_name + '.tgz'\n",
        "print('Downloading from ', url)\n",
        "!wget {url}\n",
        "print('Unpacking')\n",
        "!tar -xvf {checkpoint_name}.tgz\n",
        "checkpoint = checkpoint_name + '.ckpt'\n",
        "\n",
        "display.clear_output()\n",
        "print('Successfully downloaded checkpoint from ', url,\n",
        "      '. It is available as', checkpoint)\n"
      ],
      "execution_count": null,
      "outputs": []
    },
    {
      "cell_type": "code",
      "metadata": {
        "id": "3qCJPFPCgCH3"
      },
      "source": [
        "!wget https://upload.wikimedia.org/wikipedia/commons/f/fe/Giant_Panda_in_Beijing_Zoo_1.JPG -O panda.jpg"
      ],
      "execution_count": null,
      "outputs": []
    },
    {
      "cell_type": "code",
      "metadata": {
        "id": "Q_I0s9ZXgNR2"
      },
      "source": [
        "import sys\n",
        "sys.path.append('/content/models/research/slim')"
      ],
      "execution_count": null,
      "outputs": []
    },
    {
      "cell_type": "code",
      "metadata": {
        "id": "4I5UjDtfifjo"
      },
      "source": [
        "!pip install tf_slim "
      ],
      "execution_count": null,
      "outputs": []
    },
    {
      "cell_type": "code",
      "metadata": {
        "id": "hv5-cvosgVsd"
      },
      "source": [
        "import tensorflow.compat.v1 as tf\n",
        "from nets.mobilenet import mobilenet_v2\n",
        "import tf_slim\n",
        "\n",
        "tf.compat.v1.disable_eager_execution()\n",
        "\n",
        "tf.reset_default_graph()\n",
        "file_input = tf.placeholder(tf.string,())\n",
        "#placeholder(tf.string, ())\n",
        "\n",
        "image = tf.image.decode_jpeg(tf.read_file(file_input))\n",
        "\n",
        "images = tf.expand_dims(image, 0)\n",
        "images = tf.cast(images, tf.float32) / 128.  - 1\n",
        "images.set_shape((None, None, None, 3))\n",
        "images = tf.image.resize_images(images, (224, 224))\n",
        "\n",
        "# Note: arg_scope is optional for inference.\n",
        "\n",
        "with tf_slim.arg_scope(mobilenet_v2.training_scope(is_training=False)):\n",
        "  logits, endpoints = mobilenet_v2.mobilenet(images)\n",
        "  \n",
        "# Restore using exponential moving average since it produces (1.5-2%) higher \n",
        "# accuracy\n",
        "ema = tf.train.ExponentialMovingAverage(0.999)\n",
        "vars = ema.variables_to_restore()\n",
        "\n",
        "saver = tf.train.Saver(vars)  ## 모델 저장 함수"
      ],
      "execution_count": null,
      "outputs": []
    },
    {
      "cell_type": "code",
      "metadata": {
        "id": "55uMkChEg3fE"
      },
      "source": [
        "from IPython import display\n",
        "import pylab\n",
        "from datasets import imagenet\n",
        "import PIL\n",
        "display.display(display.Image('/content/panda.jpg'))\n",
        "\n",
        "with tf.Session() as sess:\n",
        "  saver.restore(sess,  checkpoint)\n",
        "  x = endpoints['Predictions'].eval(feed_dict={file_input: '/content/panda.jpg'})\n",
        "label_map = imagenet.create_readable_names_for_imagenet_labels()  \n",
        "print(\"Top 1 prediction: \", x.argmax(),label_map[x.argmax()], x.max())\n"
      ],
      "execution_count": null,
      "outputs": []
    },
    {
      "cell_type": "code",
      "metadata": {
        "id": "_W2N8VO2kh38"
      },
      "source": [
        "import numpy as np\n",
        "img = np.array(PIL.Image.open('/content/panda.jpg').resize((224, 224))).astype(np.float) / 128 - 1\n",
        "## 검출할 이미지와 같은 픽셀 배열 생성\n",
        "gd = tf.GraphDef.FromString(open(checkpoint_name + '_frozen.pb', 'rb').read()) \n",
        "## 그래프(점과 선으로 구성된 자료구조)데이터 불러오기\n",
        "inp, predictions = tf.import_graph_def(gd,  return_elements = ['input:0', 'MobilenetV2/Predictions/Reshape_1:0'])"
      ],
      "execution_count": null,
      "outputs": []
    },
    {
      "cell_type": "code",
      "metadata": {
        "id": "kVx_9IwUk1cZ"
      },
      "source": [
        "## 많은 메모리 할당이 필요하므로 사용후 바로 할당한 메모리를 반납하기 위해 with문을 사용\n",
        "with tf.Session(graph=inp.graph):\n",
        "    x = predictions.eval(feed_dict={inp: img.reshape(1, 224,224, 3)})\n",
        "\n",
        "label_map = imagenet.create_readable_names_for_imagenet_labels()\n",
        "print(\"Top 1 Prediction: \", x.argmax(),label_map[x.argmax()], x.max())"
      ],
      "execution_count": null,
      "outputs": []
    },
    {
      "cell_type": "code",
      "metadata": {
        "id": "H9jDJ6utUvOq"
      },
      "source": [
        ""
      ],
      "execution_count": null,
      "outputs": []
    }
  ]
}