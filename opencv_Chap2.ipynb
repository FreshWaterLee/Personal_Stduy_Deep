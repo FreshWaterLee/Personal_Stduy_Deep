{
  "nbformat": 4,
  "nbformat_minor": 0,
  "metadata": {
    "colab": {
      "name": "opencv_Chap2.ipynb",
      "private_outputs": true,
      "provenance": [],
      "collapsed_sections": [],
      "mount_file_id": "1sOdcQBVSFpTCQGaucWKiIWJ9hETwfBPk",
      "authorship_tag": "ABX9TyPtsNAb7RFjsVWTV595vMyK",
      "include_colab_link": true
    },
    "kernelspec": {
      "name": "python3",
      "display_name": "Python 3"
    },
    "language_info": {
      "name": "python"
    }
  },
  "cells": [
    {
      "cell_type": "markdown",
      "metadata": {
        "id": "view-in-github",
        "colab_type": "text"
      },
      "source": [
        "<a href=\"https://colab.research.google.com/github/FreshWaterLee/Personal_Stduy_Deep/blob/main/opencv_Chap2.ipynb\" target=\"_parent\"><img src=\"https://colab.research.google.com/assets/colab-badge.svg\" alt=\"Open In Colab\"/></a>"
      ]
    },
    {
      "cell_type": "code",
      "metadata": {
        "id": "j1cOO5lU-MRz"
      },
      "source": [
        "import cv2\n",
        "from google.colab.patches import cv2_imshow\n",
        "import numpy as np"
      ],
      "execution_count": null,
      "outputs": []
    },
    {
      "cell_type": "code",
      "metadata": {
        "id": "sfdFCTx1-OAu"
      },
      "source": [
        "img = cv2.imread('/content/drive/MyDrive/Resources/cards.jpg')\n",
        "## 와핑: 이미지를 펼치는 것을 뜻함\n",
        "width,height = 250,350\n",
        "pts1 = np.float32([[111,218],[287,188],[154,482],[352,440]])\n",
        "## 특정 카드의 좌표\n",
        "pts2 = np.float32([[0,0],[width,0],[0,height],[width,height]])\n",
        "## 와핑할 좌표(대부분 가져온 이미지의 크기 그대로를 가져올 때가 많다)\n",
        "matrix = cv2.getPerspectiveTransform(pts1,pts2)\n",
        "## 첫번째 매개변수의 값을 2번째 매개변수의 값으로 변경할 포인터를 지정\n",
        "imgOutput = cv2.warpPerspective(img,matrix,(width,height))\n",
        "## 입력한 이미지를 매트릭스의 첫번째 매개변수 위치의 값을 두번째 매개변수의 값의 위치로 펼치는 함수\n",
        "cv2_imshow(img)\n",
        "cv2_imshow(imgOutput)\n",
        "\n",
        "cv2.waitKey(0)"
      ],
      "execution_count": null,
      "outputs": []
    },
    {
      "cell_type": "code",
      "metadata": {
        "id": "f7207whsGU3c"
      },
      "source": [
        "\n",
        "\n",
        "def stackImages(scale,imgArray):\n",
        "    ## 입력으로 넣은 이미지의 갯수에 무관하게 자동 정렬 함수\n",
        "    rows = len(imgArray)\n",
        "    cols = len(imgArray[0])\n",
        "    rowsAvailable = isinstance(imgArray[0], list)\n",
        "    width = imgArray[0][0].shape[1]\n",
        "    height = imgArray[0][0].shape[0]\n",
        "    if rowsAvailable:\n",
        "        for x in range ( 0, rows):\n",
        "            for y in range(0, cols):\n",
        "                if imgArray[x][y].shape[:2] == imgArray[0][0].shape [:2]:\n",
        "                    imgArray[x][y] = cv2.resize(imgArray[x][y], (0, 0), None, scale, scale)\n",
        "                else:\n",
        "                    imgArray[x][y] = cv2.resize(imgArray[x][y], (imgArray[0][0].shape[1], imgArray[0][0].shape[0]), None, scale, scale)\n",
        "                if len(imgArray[x][y].shape) == 2: imgArray[x][y]= cv2.cvtColor( imgArray[x][y], cv2.COLOR_GRAY2BGR)\n",
        "        imageBlank = np.zeros((height, width, 3), np.uint8)\n",
        "        hor = [imageBlank]*rows\n",
        "        hor_con = [imageBlank]*rows\n",
        "        for x in range(0, rows):\n",
        "            hor[x] = np.hstack(imgArray[x])\n",
        "        ver = np.vstack(hor)\n",
        "    else:\n",
        "        for x in range(0, rows):\n",
        "            if imgArray[x].shape[:2] == imgArray[0].shape[:2]:\n",
        "                imgArray[x] = cv2.resize(imgArray[x], (0, 0), None, scale, scale)\n",
        "            else:\n",
        "                imgArray[x] = cv2.resize(imgArray[x], (imgArray[0].shape[1], imgArray[0].shape[0]), None,scale, scale)\n",
        "            if len(imgArray[x].shape) == 2: imgArray[x] = cv2.cvtColor(imgArray[x], cv2.COLOR_GRAY2BGR)\n",
        "        hor= np.hstack(imgArray)\n",
        "        ver = hor\n",
        "    return ver\n",
        "img = cv2.imread('/content/drive/MyDrive/Resources/lena.png')\n",
        "imgStack = stackImages(0.5,([img,img,img]))\n",
        "# imgHor = np.hstack((img,img))\n",
        "# imgVer = np.vstack((img,img))\n",
        "\n",
        "# cv2_imshow(imgHor)\n",
        "cv2_imshow(imgStack)\n",
        "cv2.waitKey(0)"
      ],
      "execution_count": null,
      "outputs": []
    },
    {
      "cell_type": "code",
      "metadata": {
        "id": "CqBxQGxiODUT"
      },
      "source": [
        "## 컬러 검출 알고리즘 ( 차선 검출 혹은 특정 물체 인식 알고리즘을 작성하는데 기본적으로 필요한 알고리즘)\n",
        "img = cv2.imread('/content/drive/MyDrive/Resources/lambo.PNG')\n",
        "\n",
        "imgHSV = cv2.cvtColor(img,cv2.COLOR_BGR2HSV)\n",
        "\n",
        "cv2_imshow(img)\n",
        "cv2_imshow(imgHSV)\n",
        "cv2.waitKey(0)"
      ],
      "execution_count": null,
      "outputs": []
    }
  ]
}