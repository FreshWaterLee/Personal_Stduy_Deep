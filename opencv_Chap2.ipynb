{
  "nbformat": 4,
  "nbformat_minor": 0,
  "metadata": {
    "colab": {
      "name": "opencv_Chap2.ipynb",
      "private_outputs": true,
      "provenance": [],
      "collapsed_sections": [],
      "mount_file_id": "1sOdcQBVSFpTCQGaucWKiIWJ9hETwfBPk",
      "authorship_tag": "ABX9TyNtsy3kNhCbSuu4L6MT9Ply",
      "include_colab_link": true
    },
    "kernelspec": {
      "name": "python3",
      "display_name": "Python 3"
    },
    "language_info": {
      "name": "python"
    }
  },
  "cells": [
    {
      "cell_type": "markdown",
      "metadata": {
        "id": "view-in-github",
        "colab_type": "text"
      },
      "source": [
        "<a href=\"https://colab.research.google.com/github/FreshWaterLee/Personal_Stduy_Deep/blob/main/opencv_Chap2.ipynb\" target=\"_parent\"><img src=\"https://colab.research.google.com/assets/colab-badge.svg\" alt=\"Open In Colab\"/></a>"
      ]
    },
    {
      "cell_type": "code",
      "metadata": {
        "id": "j1cOO5lU-MRz"
      },
      "source": [
        "import cv2\n",
        "from google.colab.patches import cv2_imshow\n",
        "import numpy as np"
      ],
      "execution_count": null,
      "outputs": []
    },
    {
      "cell_type": "code",
      "metadata": {
        "id": "sfdFCTx1-OAu"
      },
      "source": [
        "img = cv2.imread('/content/drive/MyDrive/Resources/cards.jpg')\n",
        "## 와핑: 이미지를 펼치는 것을 뜻함\n",
        "width,height = 250,350\n",
        "pts1 = np.float32([[111,218],[287,188],[154,482],[352,440]])\n",
        "## 특정 카드의 좌표\n",
        "pts2 = np.float32([[0,0],[width,0],[0,height],[width,height]])\n",
        "## 와핑할 좌표(대부분 가져온 이미지의 크기 그대로를 가져올 때가 많다)\n",
        "matrix = cv2.getPerspectiveTransform(pts1,pts2)\n",
        "## 첫번째 매개변수의 값을 2번째 매개변수의 값으로 변경할 포인터를 지정\n",
        "imgOutput = cv2.warpPerspective(img,matrix,(width,height))\n",
        "## 입력한 이미지를 매트릭스의 첫번째 매개변수 위치의 값을 두번째 매개변수의 값의 위치로 펼치는 함수\n",
        "cv2_imshow(img)\n",
        "cv2_imshow(imgOutput)\n",
        "\n",
        "cv2.waitKey(0)"
      ],
      "execution_count": null,
      "outputs": []
    },
    {
      "cell_type": "code",
      "metadata": {
        "id": "f7207whsGU3c"
      },
      "source": [
        "\n",
        "\n",
        "def stackImages(scale,imgArray):\n",
        "    ## 입력으로 넣은 이미지의 갯수에 무관하게 자동 정렬 함수\n",
        "    rows = len(imgArray)\n",
        "    cols = len(imgArray[0])\n",
        "    rowsAvailable = isinstance(imgArray[0], list)\n",
        "    width = imgArray[0][0].shape[1]\n",
        "    height = imgArray[0][0].shape[0]\n",
        "    if rowsAvailable:\n",
        "        for x in range ( 0, rows):\n",
        "            for y in range(0, cols):\n",
        "                if imgArray[x][y].shape[:2] == imgArray[0][0].shape [:2]:\n",
        "                    imgArray[x][y] = cv2.resize(imgArray[x][y], (0, 0), None, scale, scale)\n",
        "                else:\n",
        "                    imgArray[x][y] = cv2.resize(imgArray[x][y], (imgArray[0][0].shape[1], imgArray[0][0].shape[0]), None, scale, scale)\n",
        "                if len(imgArray[x][y].shape) == 2: imgArray[x][y]= cv2.cvtColor( imgArray[x][y], cv2.COLOR_GRAY2BGR)\n",
        "        imageBlank = np.zeros((height, width, 3), np.uint8)\n",
        "        hor = [imageBlank]*rows\n",
        "        hor_con = [imageBlank]*rows\n",
        "        for x in range(0, rows):\n",
        "            hor[x] = np.hstack(imgArray[x])\n",
        "        ver = np.vstack(hor)\n",
        "    else:\n",
        "        for x in range(0, rows):\n",
        "            if imgArray[x].shape[:2] == imgArray[0].shape[:2]:\n",
        "                imgArray[x] = cv2.resize(imgArray[x], (0, 0), None, scale, scale)\n",
        "            else:\n",
        "                imgArray[x] = cv2.resize(imgArray[x], (imgArray[0].shape[1], imgArray[0].shape[0]), None,scale, scale)\n",
        "            if len(imgArray[x].shape) == 2: imgArray[x] = cv2.cvtColor(imgArray[x], cv2.COLOR_GRAY2BGR)\n",
        "        hor= np.hstack(imgArray)\n",
        "        ver = hor\n",
        "    return ver\n",
        "img = cv2.imread('/content/drive/MyDrive/Resources/lena.png')\n",
        "imgStack = stackImages(0.5,([img,img,img]))\n",
        "# imgHor = np.hstack((img,img))\n",
        "# imgVer = np.vstack((img,img))\n",
        "\n",
        "# cv2_imshow(imgHor)\n",
        "cv2_imshow(imgStack)\n",
        "cv2.waitKey(0)"
      ],
      "execution_count": null,
      "outputs": []
    },
    {
      "cell_type": "code",
      "metadata": {
        "id": "CqBxQGxiODUT"
      },
      "source": [
        "## 컬러 검출 알고리즘 ( 차선 검출 혹은 특정 물체 인식 알고리즘을 작성하는데 기본적으로 필요한 알고리즘)\n",
        "path = '/content/drive/MyDrive/Resources/lambo.PNG'\n",
        "img = cv2.imread(path)\n",
        "imgHSV = cv2.cvtColor(img,cv2.COLOR_BGR2HSV)\n",
        "## 이미지의 색상표(RGB)를 HSV로 변경\n",
        "cv2_imshow(img)\n",
        "cv2_imshow(imgHSV)\n",
        "cv2.waitKey(0)"
      ],
      "execution_count": null,
      "outputs": []
    },
    {
      "cell_type": "code",
      "metadata": {
        "id": "nMpZey6aQIdM"
      },
      "source": [
        "# import cv2\n",
        "# import numpy as np\n",
        "\n",
        "### Google Colab에서는 cv2.imshow처럼 윈도우를 띄우는 함수를 사용할수 없기에 주석처리를 하였다\n",
        "\n",
        "# def empty(a):\n",
        "#     pass\n",
        " \n",
        "# def stackImages(scale,imgArray):\n",
        "#     rows = len(imgArray)\n",
        "#     cols = len(imgArray[0])\n",
        "#     rowsAvailable = isinstance(imgArray[0], list)\n",
        "#     width = imgArray[0][0].shape[1]\n",
        "#     height = imgArray[0][0].shape[0]\n",
        "#     if rowsAvailable:\n",
        "#         for x in range ( 0, rows):\n",
        "#             for y in range(0, cols):\n",
        "#                 if imgArray[x][y].shape[:2] == imgArray[0][0].shape [:2]:\n",
        "#                     imgArray[x][y] = cv2.resize(imgArray[x][y], (0, 0), None, scale, scale)\n",
        "#                 else:\n",
        "#                     imgArray[x][y] = cv2.resize(imgArray[x][y], (imgArray[0][0].shape[1], imgArray[0][0].shape[0]), None, scale, scale)\n",
        "#                 if len(imgArray[x][y].shape) == 2: imgArray[x][y]= cv2.cvtColor( imgArray[x][y], cv2.COLOR_GRAY2BGR)\n",
        "#         imageBlank = np.zeros((height, width, 3), np.uint8)\n",
        "#         hor = [imageBlank]*rows\n",
        "#         hor_con = [imageBlank]*rows\n",
        "#         for x in range(0, rows):\n",
        "#             hor[x] = np.hstack(imgArray[x])\n",
        "#         ver = np.vstack(hor)\n",
        "#     else:\n",
        "#         for x in range(0, rows):\n",
        "#             if imgArray[x].shape[:2] == imgArray[0].shape[:2]:\n",
        "#                 imgArray[x] = cv2.resize(imgArray[x], (0, 0), None, scale, scale)\n",
        "#             else:\n",
        "#                 imgArray[x] = cv2.resize(imgArray[x], (imgArray[0].shape[1], imgArray[0].shape[0]), None,scale, scale)\n",
        "#             if len(imgArray[x].shape) == 2: imgArray[x] = cv2.cvtColor(imgArray[x], cv2.COLOR_GRAY2BGR)\n",
        "#         hor= np.hstack(imgArray)\n",
        "#         ver = hor\n",
        "#     return ver\n",
        " \n",
        " \n",
        "# path = 'Resources/lambo.png'\n",
        "# cv2.namedWindow(\"TrackBars\")\n",
        "# cv2.resizeWindow(\"TrackBars\",640,240)\n",
        "# cv2.createTrackbar(\"Hue Min\",\"TrackBars\",0,179,empty)\n",
        "# cv2.createTrackbar(\"Hue Max\",\"TrackBars\",19,179,empty)\n",
        "# cv2.createTrackbar(\"Sat Min\",\"TrackBars\",110,255,empty)\n",
        "# cv2.createTrackbar(\"Sat Max\",\"TrackBars\",240,255,empty)\n",
        "# cv2.createTrackbar(\"Val Min\",\"TrackBars\",153,255,empty)\n",
        "# cv2.createTrackbar(\"Val Max\",\"TrackBars\",255,255,empty)\n",
        "### 주어진 이미지의 HSV값을 실시간으로 변경하는 트랙바를 생성\n",
        "# while True:\n",
        "#     img = cv2.imread(path)\n",
        "#     imgHSV = cv2.cvtColor(img,cv2.COLOR_BGR2HSV)\n",
        "#     h_min = cv2.getTrackbarPos(\"Hue Min\",\"TrackBars\")\n",
        "#     h_max = cv2.getTrackbarPos(\"Hue Max\", \"TrackBars\")\n",
        "#     s_min = cv2.getTrackbarPos(\"Sat Min\", \"TrackBars\")\n",
        "#     s_max = cv2.getTrackbarPos(\"Sat Max\", \"TrackBars\")\n",
        "#     v_min = cv2.getTrackbarPos(\"Val Min\", \"TrackBars\")\n",
        "#     v_max = cv2.getTrackbarPos(\"Val Max\", \"TrackBars\")\n",
        "#     print(h_min,h_max,s_min,s_max,v_min,v_max)\n",
        "#     lower = np.array([h_min,s_min,v_min])\n",
        "#     upper = np.array([h_max,s_max,v_max])\n",
        "#     mask = cv2.inRange(imgHSV,lower,upper)\n",
        "    ### mask는 입력한 hsv의 값에 맞는 픽셀만 1의 값으로 띄어진 이미지를 생성\n",
        "#     imgResult = cv2.bitwise_and(img,img,mask=mask)\n",
        "    ### bitwise And 함수는 mask의 픽셀 값이 1인 이미지의 값만 잘라내는 함수\n",
        " \n",
        "#     # cv2.imshow(\"Original\",img)\n",
        "#     # cv2.imshow(\"HSV\",imgHSV)\n",
        "#     # cv2.imshow(\"Mask\", mask)\n",
        "#     # cv2.imshow(\"Result\", imgResult)\n",
        "    \n",
        "#     imgStack = stackImages(0.6,([img,imgHSV],[mask,imgResult]))\n",
        "#     cv2.imshow(\"Stacked Images\", imgStack)\n",
        "#     cv2.waitKey(1)"
      ],
      "execution_count": null,
      "outputs": []
    },
    {
      "cell_type": "code",
      "metadata": {
        "id": "0GamwgP8Q5xp"
      },
      "source": [
        "### 윤곽선 검출 알고리즘 (같은 값을 가지곳을 연결한 선(색상 강도))\n",
        "\n",
        "def getContours(image,):\n",
        "    contours,hierarchy = cv2.findContours(image,cv2.RETR_EXTERNAL,cv2.CHAIN_APPROX_NONE)\n",
        "    ## contours는 윤곽선 모음, Hierarchy 각 외곽선의 계층 데이터를 받은 변수\n",
        "    for cnt in contours:\n",
        "        area = cv2.contourArea(cnt)\n",
        "        print(area)\n",
        "        cv2.drawContours(imgContour,cnt,-1,(255,0,0),3)\n",
        "        ### 검출된 윤곽선을 그리는 함수 (이미지,윤곽선 값, 윤곽선끼리 연결을 할것인지, 색상, 선의 굵기 )\n",
        "        \n",
        "\n",
        "\n",
        "path = '/content/drive/MyDrive/Resources/shapes.png'\n",
        "\n",
        "img = cv2.imread(path)\n",
        "imgContour = img.copy()\n",
        "\n",
        "imgGray = cv2.cvtColor(img,cv2.COLOR_BGR2GRAY)\n",
        "imgBlur = cv2.GaussianBlur(imgGray,(7,7),1)\n",
        "imgCanny = cv2.Canny(imgBlur,50,50)\n",
        "getContours(imgCanny)\n",
        "imgBlank = np.zeros_like(img)\n",
        "### 경로에서 가져온 이미지와 같은 크기의 아무것도 없는 이미지 생성\n",
        "imgStack = stackImages(0.6,([img,imgGray,imgBlur],[imgCanny,imgContour,imgBlank]))\n",
        "###\n",
        "\n",
        "\n",
        "### 외곽선 검출 함수\n",
        "\n",
        "# cv2_imshow(imgCanny)\n",
        "cv2_imshow(imgStack)\n",
        "cv2.waitKey(0)"
      ],
      "execution_count": null,
      "outputs": []
    }
  ]
}