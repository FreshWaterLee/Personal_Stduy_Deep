{
  "nbformat": 4,
  "nbformat_minor": 0,
  "metadata": {
    "colab": {
      "name": "opencv_Chap1.ipynb",
      "private_outputs": true,
      "provenance": [],
      "collapsed_sections": [],
      "mount_file_id": "15gb3nPexpsDTi_ZmiMBp55bN9CtXBOgg",
      "authorship_tag": "ABX9TyMYD2JAj4eeVl4sHDbFcsbM",
      "include_colab_link": true
    },
    "kernelspec": {
      "name": "python3",
      "display_name": "Python 3"
    },
    "language_info": {
      "name": "python"
    },
    "accelerator": "GPU"
  },
  "cells": [
    {
      "cell_type": "markdown",
      "metadata": {
        "id": "view-in-github",
        "colab_type": "text"
      },
      "source": [
        "<a href=\"https://colab.research.google.com/github/FreshWaterLee/Personal_Stduy_Deep/blob/main/opencv_Chap1.ipynb\" target=\"_parent\"><img src=\"https://colab.research.google.com/assets/colab-badge.svg\" alt=\"Open In Colab\"/></a>"
      ]
    },
    {
      "cell_type": "code",
      "metadata": {
        "id": "6MT9lNyW1o-V"
      },
      "source": [
        "import cv2\n",
        "from google.colab.patches import cv2_imshow\n",
        "import numpy as np\n",
        "\n",
        "## Google Colab에서는 opencv의 Imshow 함수를 사용하기 위해서\n",
        "## Colab내부의 라이브러리에서 꺼내 사용해야한다\n",
        "\n",
        "print(\"Package Imported\")\n",
        "\n",
        "img = cv2.imread('/content/drive/MyDrive/Resources/lena.png');\n",
        "\n",
        "cv2_imshow(img)\n",
        "cv2.waitKey(0)"
      ],
      "execution_count": null,
      "outputs": []
    },
    {
      "cell_type": "code",
      "metadata": {
        "id": "eb6nhLDlFhj0"
      },
      "source": [
        "# import cv2\n",
        "# from IPython.display import clear_output, Image\n",
        "# import base64\n",
        "\n",
        "# def arrayShow (imageArray):\n",
        "#     ret, png = cv2.imencode('.png', imageArray)\n",
        "#     encoded = base64.b64encode(png)\n",
        "#     return Image(data=encoded.decode('ascii'))\n",
        "\n",
        "# video_capture = cv2.VideoCapture('/content/drive/MyDrive/Resources/test_video.mp4')\n",
        "# while video_capture.isOpened():\n",
        "#     success, frame = video_capture.read()\n",
        "\n",
        "#     clear_output(wait=True)\n",
        "#     img = arrayShow(frame)\n",
        "#     display(img)\n",
        "\n",
        "#     if cv2.waitKey(1) & 0xFF == ord('q'):\n",
        "#         break\n",
        "## 영상 재생을 예제 (Colab에서는 다른 방식으로 영상을 재생함)"
      ],
      "execution_count": null,
      "outputs": []
    },
    {
      "cell_type": "code",
      "metadata": {
        "id": "2Xat3a11J5Bj"
      },
      "source": [
        "import cv2\n",
        "from google.colab.patches import cv2_imshow\n",
        "## Google Colab에서는 opencv의 Imshow 함수를 사용하기 위해서\n",
        "## Colab내부의 라이브러리에서 꺼내 사용해야한다\n",
        "\n",
        "#print(\"Package Imported\")\n",
        "\n",
        "img = cv2.imread('/content/drive/MyDrive/Resources/lena.png');\n",
        "imgGray = cv2.cvtColor(img,cv2.COLOR_BGR2GRAY)\n",
        "## 이미지 그레이스케일(이미지 픽셀 데이터 2분화를 위해)\n",
        "imgBlur = cv2.GaussianBlur(imgGray,(7,7),0)\n",
        "## 블러를 통해 노이즈(깨진 데이터)를 부드럽게 처리\n",
        "imgCanny = cv2.Canny(img,150,200)\n",
        "## 블러 처리한 이미지의 앳지(외곽선)를 검출\n",
        "\n",
        "# cv2_imshow(img)\n",
        "cv2_imshow(imgGray)\n",
        "cv2_imshow(imgBlur)\n",
        "cv2_imshow(imgCanny)\n",
        "cv2.waitKey(0)"
      ],
      "execution_count": null,
      "outputs": []
    },
    {
      "cell_type": "code",
      "metadata": {
        "id": "UT6vXX3gK2Ub"
      },
      "source": [
        "##dilate는 엣지 검출에서 나온 미세한 엣지들을 팽창 시키는 함수(잡음의 제거를 위한 전처리)\n",
        "kernel = np.ones((5,5),np.uint8)\n",
        "## 팽창 시킬 레이어의 크기를 Kernel이란 변수에 저장\n",
        "imgDialation = cv2.dilate(imgCanny,kernel,iterations=1)\n",
        "## iterations 는 팽창 시킨 픽셀의 크기\n",
        "imgEroded = cv2.erode(imgDialation,kernel,iterations=1)\n",
        "cv2_imshow(imgCanny)\n",
        "cv2_imshow(imgDialation)\n",
        "cv2_imshow(imgEroded)\n",
        "cv2.waitKey(0)"
      ],
      "execution_count": null,
      "outputs": []
    },
    {
      "cell_type": "code",
      "metadata": {
        "id": "qDG8woKiPNJw"
      },
      "source": [
        "\n",
        "img = cv2.imread(\"/content/drive/MyDrive/Resources/lambo.PNG\")\n",
        "print(img.shape)\n",
        "\n",
        "imgResize = cv2.resize(img,(300,200))\n",
        "## 이미지 사이즈 재 정의 함수 (이미지파일,재 정의할 사이즈(x,y))\n",
        "\n",
        "imgCropped = img[0:200,200:500]\n",
        "## 이미지 잘라내기( 이미지의 일부를 잘라내서 [x좌표[시작:끝], y좌표[시작:끝]])\n",
        "\n",
        "cv2_imshow(img)\n",
        "# cv2_imshow(imgResize)\n",
        "cv2_imshow(imgCropped)\n",
        "\n",
        "cv2.waitKey(0)"
      ],
      "execution_count": null,
      "outputs": []
    },
    {
      "cell_type": "code",
      "metadata": {
        "id": "gOlA6x7ZSBdm"
      },
      "source": [
        "#Shapeds And Texts\n",
        "\n",
        "img = np.zeros((512,512,3),np.uint8)\n",
        "## 차원 설정도 해주어야함 하지않으면 이미지 처리 과정에서 에러가 발생할수잇음\n",
        "img[200:300,100:400] = 255,0,0\n",
        "### 지정한 좌표에 원하는 색상으로 채우는 코드\n",
        "\n",
        "cv2.line(img,(0,0),(300,300),(0,255,0),3)\n",
        "### 이미지에 라인을 그리는 함수 (이미지, 시작 좌표(x,y), 끝 좌표(x,y), 선의 색상, 선의 굵기)\n",
        "cv2.rectangle(img,(0,0),(250,350),(0,0,255),2)\n",
        "### 사각형 그리기 함수(이미지, 시작 좌표(x,y), 끝 좌표(x,y),색상(B,G,R), 사각형의 굵기)\n",
        "cv2.circle(img,(250,350),30,(0,0,255),2)\n",
        "### 원 그리기 (이미지, 좌표(x,y),원의 너비(반지름?),색상(B,G,R), 굵기)\n",
        "\n",
        "cv2_imshow(img)\n",
        "cv2.waitKey(0)\n",
        "## 0으로 된 픽셀 데이터 배열을 생성(zeros는 0으로 ones는 1)((x길이,y길이))"
      ],
      "execution_count": null,
      "outputs": []
    },
    {
      "cell_type": "code",
      "metadata": {
        "id": "500Kj0WTVf2h"
      },
      "source": [
        ""
      ],
      "execution_count": null,
      "outputs": []
    }
  ]
}